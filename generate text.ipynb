{
 "cells": [
  {
   "cell_type": "code",
   "execution_count": 1,
   "id": "anticipated-husband",
   "metadata": {
    "ExecuteTime": {
     "end_time": "2021-02-06T15:04:53.819618Z",
     "start_time": "2021-02-06T15:04:50.552732Z"
    }
   },
   "outputs": [],
   "source": [
    "import tensorflow as tf"
   ]
  },
  {
   "cell_type": "code",
   "execution_count": 2,
   "id": "isolated-consumption",
   "metadata": {
    "ExecuteTime": {
     "end_time": "2021-02-06T15:05:17.067430Z",
     "start_time": "2021-02-06T15:05:14.981007Z"
    }
   },
   "outputs": [],
   "source": [
    "model_reloaded = tf.saved_model.load('potter/')"
   ]
  },
  {
   "cell_type": "code",
   "execution_count": 5,
   "id": "operational-chess",
   "metadata": {
    "ExecuteTime": {
     "end_time": "2021-02-06T15:19:24.154607Z",
     "start_time": "2021-02-06T15:19:21.499829Z"
    }
   },
   "outputs": [
    {
     "name": "stdout",
     "output_type": "stream",
     "text": [
      "harry was running in the forest.\n",
      "Next task, I waited, to meet him as they walked up the street and spider.  The boys' they had been put it in the house.  \"The moment you are, that got?\"\n",
      "\"Yes,\" said Moody laughing heavy-celt, there was a loud slamming noise, frowning so full of emoty across the bathroom surfaceet, and then he looked away after her.  He didn't say mutter than at Harry, but Harry, pointed at her. \"What's that supposed to mean?\" said Harry, staring at Krumbledore, who was standing in which he seized Harry's shoulder, canquer than another, and her excuses of breaking attention of busy, gills, sending to him in front of him, screeist madly, her eggs and waved at a dusk shape.  \"Couldn't speaks about it - Krum?\"  said Dumbledore. \"It is my hand,\" said Madame Maxime, bowled it, and recovering heavily. \"So - er-pushed are, Igor,\" he said.  \"It's all about me somet do?\" said Ron covered in a huge leaving Potion in the corridors; his legs were still the ground beside Dumbledore, seizing Hermione a dark, rag, Ha\n"
     ]
    }
   ],
   "source": [
    "states = None\n",
    "lst = ['harry was running in the forest.','','','','']\n",
    "next_char = tf.constant(lst)\n",
    "result = [next_char]\n",
    "\n",
    "for n in range(1000):\n",
    "    next_char, states = model_reloaded.generate_one_step(next_char, states=states)\n",
    "    result.append(next_char)\n",
    "\n",
    "print(tf.strings.join(result)[0].numpy().decode(\"utf-8\"))"
   ]
  }
 ],
 "metadata": {
  "kernelspec": {
   "display_name": "Python 3",
   "language": "python",
   "name": "python3"
  },
  "language_info": {
   "codemirror_mode": {
    "name": "ipython",
    "version": 3
   },
   "file_extension": ".py",
   "mimetype": "text/x-python",
   "name": "python",
   "nbconvert_exporter": "python",
   "pygments_lexer": "ipython3",
   "version": "3.6.12"
  },
  "varInspector": {
   "cols": {
    "lenName": 16,
    "lenType": 16,
    "lenVar": 40
   },
   "kernels_config": {
    "python": {
     "delete_cmd_postfix": "",
     "delete_cmd_prefix": "del ",
     "library": "var_list.py",
     "varRefreshCmd": "print(var_dic_list())"
    },
    "r": {
     "delete_cmd_postfix": ") ",
     "delete_cmd_prefix": "rm(",
     "library": "var_list.r",
     "varRefreshCmd": "cat(var_dic_list()) "
    }
   },
   "types_to_exclude": [
    "module",
    "function",
    "builtin_function_or_method",
    "instance",
    "_Feature"
   ],
   "window_display": false
  }
 },
 "nbformat": 4,
 "nbformat_minor": 5
}
