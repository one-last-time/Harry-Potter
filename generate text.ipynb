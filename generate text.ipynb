{
 "cells": [
  {
   "cell_type": "code",
   "execution_count": 1,
   "id": "korean-disorder",
   "metadata": {
    "ExecuteTime": {
     "end_time": "2021-02-06T15:04:53.819618Z",
     "start_time": "2021-02-06T15:04:50.552732Z"
    }
   },
   "outputs": [],
   "source": [
    "import tensorflow as tf"
   ]
  },
  {
   "cell_type": "code",
   "execution_count": 2,
   "id": "victorian-victory",
   "metadata": {
    "ExecuteTime": {
     "end_time": "2021-02-06T15:05:17.067430Z",
     "start_time": "2021-02-06T15:05:14.981007Z"
    }
   },
   "outputs": [],
   "source": [
    "model_reloaded = tf.saved_model.load('potter/')"
   ]
  },
  {
   "cell_type": "code",
   "execution_count": 11,
   "id": "spread-closure",
   "metadata": {
    "ExecuteTime": {
     "end_time": "2021-02-06T18:12:23.504767Z",
     "start_time": "2021-02-06T18:12:18.473034Z"
    }
   },
   "outputs": [
    {
     "name": "stdout",
     "output_type": "stream",
     "text": [
      "the curses at the end of the living room.\n",
      "Harry spun from the Hufflepuff looked around a harrow beaming and felt.  \"Hos called Peeves stood out partners, because We've scared of about his point and getting anything about it before Harry Potter.\"\n",
      "\"IRE'What's going on at Hogwarts,\" said Hermione at Harry.\n",
      "\"Would you hear me?  But - I can give us all that lunks,\" Dumbledore refused to plung.  He looked as though he had developed free as ever, but Hermione still had that, said, remembered, and the three champions rising in bed, a smile, and beloate indignantly.\n",
      "\"No, no, I'm not going to sit on whites and quiet!\"\n",
      "Harrys heard swam in already word, he might ever have let him?  He is wand fix food us with him.\"\n",
      "\"That's right, Hagrid,\" said Dumbledore softly.  \"I hope me a bit of bluins Jumbled, with from an owl.\n",
      "Snverious anywhere near three persis that the same stroll that had been two more stuff about summorting company of week and celering him about Karkaroff's as usual.  What will be the only sput\n"
     ]
    }
   ],
   "source": [
    "states = None\n",
    "lst = ['the curse','','','','']\n",
    "next_char = tf.constant(lst)\n",
    "result = [next_char]\n",
    "\n",
    "for n in range(1000):\n",
    "    next_char, states = model_reloaded.generate_one_step(next_char, states=states)\n",
    "    result.append(next_char)\n",
    "\n",
    "print(tf.strings.join(result)[0].numpy().decode(\"utf-8\"))"
   ]
  },
  {
   "cell_type": "code",
   "execution_count": 19,
   "id": "progressive-madrid",
   "metadata": {
    "ExecuteTime": {
     "end_time": "2021-02-06T18:17:00.917921Z",
     "start_time": "2021-02-06T18:16:55.820936Z"
    }
   },
   "outputs": [
    {
     "name": "stdout",
     "output_type": "stream",
     "text": [
      "The love potion down her food.  I stole through six bottles as a snape at cooking in around some seep.  To the cup.\n",
      "That was emerged in a small bottle of butterbeer under his bleeding questions in his hands. Harry and Ron grinnedly upon Karkaroff with a horrible drew out of your recorder.\n",
      "\"Why?\"\n",
      "\"Why is it?\" he snarled as Ron stared at him.\n",
      "\"Half it repotted.\"\n",
      "\t\"A - I got he likes,\" he said slowly -his red eyes widened before the briman stool bathroom; Harry could see Moody's magical eye (whose faces before low,\" she said, who had gone very dress hot living homework that he needed, you're going to be completely bit under the most excelt as he, Harry stood forward to pretend that he had happened with behavior.  It looked as though she would catch you.  I adwitch if accomation by the match, and were two champions is Bartemius Crouch. Harry began to take a voice stuff, and pulled Fred and George turned around to swelve he vasie the shunf and turned into submission before dificorus.  He neights and mapaf\n"
     ]
    }
   ],
   "source": [
    "states = None\n",
    "lst = ['The love potion','','','','']\n",
    "next_char = tf.constant(lst)\n",
    "result = [next_char]\n",
    "\n",
    "for n in range(1000):\n",
    "    next_char, states = model_reloaded.generate_one_step(next_char, states=states)\n",
    "    result.append(next_char)\n",
    "\n",
    "print(tf.strings.join(result)[0].numpy().decode(\"utf-8\"))"
   ]
  }
 ],
 "metadata": {
  "kernelspec": {
   "display_name": "Python 3",
   "language": "python",
   "name": "python3"
  },
  "language_info": {
   "codemirror_mode": {
    "name": "ipython",
    "version": 3
   },
   "file_extension": ".py",
   "mimetype": "text/x-python",
   "name": "python",
   "nbconvert_exporter": "python",
   "pygments_lexer": "ipython3",
   "version": "3.6.12"
  },
  "varInspector": {
   "cols": {
    "lenName": 16,
    "lenType": 16,
    "lenVar": 40
   },
   "kernels_config": {
    "python": {
     "delete_cmd_postfix": "",
     "delete_cmd_prefix": "del ",
     "library": "var_list.py",
     "varRefreshCmd": "print(var_dic_list())"
    },
    "r": {
     "delete_cmd_postfix": ") ",
     "delete_cmd_prefix": "rm(",
     "library": "var_list.r",
     "varRefreshCmd": "cat(var_dic_list()) "
    }
   },
   "types_to_exclude": [
    "module",
    "function",
    "builtin_function_or_method",
    "instance",
    "_Feature"
   ],
   "window_display": false
  }
 },
 "nbformat": 4,
 "nbformat_minor": 5
}
